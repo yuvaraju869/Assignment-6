{
 "cells": [
  {
   "cell_type": "markdown",
   "id": "fa7c6cc6",
   "metadata": {},
   "source": [
    "# Create a JSON file (employee.json) containing employee information of minimum 5 employees. Each employee information consists of Name, DOB, Height, City, State. Write a python program that reads this information from the JSON file and saves the information into a list of objects of Employee class. Finally print the list of the Employee objects."
   ]
  },
  {
   "cell_type": "code",
   "execution_count": 1,
   "id": "363587df",
   "metadata": {},
   "outputs": [
    {
     "name": "stdout",
     "output_type": "stream",
     "text": [
      "Name: John Doe, DOB: 1990-05-15, Height: 175, City: New York, State: NY\n",
      "Name: Jane Smith, DOB: 1985-10-20, Height: 162, City: Los Angeles, State: CA\n",
      "Name: Michael Johnson, DOB: 1992-03-08, Height: 180, City: Chicago, State: IL\n",
      "Name: Emily Brown, DOB: 1995-12-03, Height: 168, City: Houston, State: TX\n",
      "Name: William Davis, DOB: 1988-07-25, Height: 185, City: Miami, State: FL\n"
     ]
    }
   ],
   "source": [
    "import json\n",
    "\n",
    "class Employee:\n",
    "    def __init__(self, name, dob, height, city, state):\n",
    "        self.name = name\n",
    "        self.dob = dob\n",
    "        self.height = height\n",
    "        self.city = city\n",
    "        self.state = state\n",
    "\n",
    "    def __str__(self):\n",
    "        return f\"Name: {self.name}, DOB: {self.dob}, Height: {self.height}, City: {self.city}, State: {self.state}\"\n",
    "\n",
    "def main():\n",
    "    with open('employee.json', 'r') as file:\n",
    "        data = json.load(file)\n",
    "\n",
    "    employees = []\n",
    "    for item in data:\n",
    "        employee = Employee(item['Name'], item['DOB'], item['Height'], item['City'], item['State'])\n",
    "        employees.append(employee)\n",
    "\n",
    "    for employee in employees:\n",
    "        print(employee)\n",
    "\n",
    "if __name__ == \"__main__\":\n",
    "    main()\n"
   ]
  },
  {
   "cell_type": "markdown",
   "id": "3adc7339",
   "metadata": {},
   "source": [
    "# Create a dictionary of any 7 Indian states and their capitals. Write this into a JSON file."
   ]
  },
  {
   "cell_type": "code",
   "execution_count": 8,
   "id": "5db39c67",
   "metadata": {},
   "outputs": [
    {
     "name": "stdout",
     "output_type": "stream",
     "text": [
      "Dictionary written to JSON file.\n"
     ]
    }
   ],
   "source": [
    "import json\n",
    "\n",
    "# Dictionary of Indian states and their capitals\n",
    "indian_states_capitals = {\n",
    "    \"Andhra Pradesh\": \"Amaravati\",\n",
    "    \"Gujarat\": \"Gandhinagar\",\n",
    "    \"Karnataka\": \"Bengaluru\",\n",
    "    \"Maharashtra\": \"Mumbai\",\n",
    "    \"Tamil Nadu\": \"Chennai\",\n",
    "    \"Uttar Pradesh\": \"Lucknow\",\n",
    "    \"West Bengal\": \"Kolkata\"\n",
    "}\n",
    "\n",
    "# Write the dictionary to a JSON file\n",
    "with open('indian_states_capitals.json', 'w') as file:\n",
    "    json.dump(indian_states_capitals, file, indent=4)\n",
    "\n",
    "print(\"Dictionary written to JSON file.\")\n"
   ]
  },
  {
   "cell_type": "code",
   "execution_count": null,
   "id": "54d49650",
   "metadata": {},
   "outputs": [],
   "source": [
    "# Create a class named ‘Dog’. It should have a constructor which accepts its name, age and coat color. You must perform the following operations:\n",
    "\n",
    " # a. It should have a function ‘description()’ which prints the name and age of the dog.\n",
    " # b. It should have a function ‘get_info()’ which prints the coat color of the dog.\n",
    " # c. Create child classes ‘JackRussellTerrier’ and ‘Bulldog’ which is inherited from the class ‘Dog’. It should have at least two methods of its own.\n",
    " # d. Create objects and implement the above functionalities."
   ]
  },
  {
   "cell_type": "code",
   "execution_count": 9,
   "id": "dc8acb2b",
   "metadata": {},
   "outputs": [
    {
     "name": "stdout",
     "output_type": "stream",
     "text": [
      "Buddy is 3 years old.\n",
      "Buddy has a brown coat.\n",
      "Jackie is 2 years old.\n",
      "Jackie has a white and brown coat.\n",
      "Jackie has a special skill: jumping high\n",
      "Rocky is 4 years old.\n",
      "Rocky has a grey coat.\n",
      "Rocky has a strength level of high\n"
     ]
    }
   ],
   "source": [
    "class Dog:\n",
    "    def __init__(self, name, age, coat_color):\n",
    "        self.name = name\n",
    "        self.age = age\n",
    "        self.coat_color = coat_color\n",
    "\n",
    "    def description(self):\n",
    "        print(f\"{self.name} is {self.age} years old.\")\n",
    "\n",
    "    def get_info(self):\n",
    "        print(f\"{self.name} has a {self.coat_color} coat.\")\n",
    "\n",
    "class JackRussellTerrier(Dog):\n",
    "    def __init__(self, name, age, coat_color, skill):\n",
    "        super().__init__(name, age, coat_color)\n",
    "        self.skill = skill\n",
    "\n",
    "    def special_skill(self):\n",
    "        print(f\"{self.name} has a special skill: {self.skill}\")\n",
    "\n",
    "class Bulldog(Dog):\n",
    "    def __init__(self, name, age, coat_color, strength):\n",
    "        super().__init__(name, age, coat_color)\n",
    "        self.strength = strength\n",
    "\n",
    "    def show_strength(self):\n",
    "        print(f\"{self.name} has a strength level of {self.strength}\")\n",
    "\n",
    "\n",
    "# Create Dog objects\n",
    "dog1 = Dog(\"Buddy\", 3, \"brown\")\n",
    "dog2 = JackRussellTerrier(\"Jackie\", 2, \"white and brown\", \"jumping high\")\n",
    "dog3 = Bulldog(\"Rocky\", 4, \"grey\", \"high\")\n",
    "\n",
    "# Call methods\n",
    "dog1.description()\n",
    "dog1.get_info()\n",
    "\n",
    "dog2.description()\n",
    "dog2.get_info()\n",
    "dog2.special_skill()\n",
    "\n",
    "dog3.description()\n",
    "dog3.get_info()\n",
    "dog3.show_strength()"
   ]
  },
  {
   "cell_type": "code",
   "execution_count": null,
   "id": "dc5c98b1",
   "metadata": {},
   "outputs": [],
   "source": []
  }
 ],
 "metadata": {
  "kernelspec": {
   "display_name": "Python 3 (ipykernel)",
   "language": "python",
   "name": "python3"
  },
  "language_info": {
   "codemirror_mode": {
    "name": "ipython",
    "version": 3
   },
   "file_extension": ".py",
   "mimetype": "text/x-python",
   "name": "python",
   "nbconvert_exporter": "python",
   "pygments_lexer": "ipython3",
   "version": "3.11.3"
  }
 },
 "nbformat": 4,
 "nbformat_minor": 5
}
